{
 "cells": [
  {
   "cell_type": "markdown",
   "id": "433e64d1",
   "metadata": {},
   "source": [
    "### Inference with Bayes theorem for random variables\n",
    "\n",
    "Recall: The product rule for events is given following the definition for a conditional probability on events\n",
    "\n",
    "$\\mathbb{P}(B|A)=\\frac{\\mathbb{P}(B\\cap A)}{\\mathbb{P}(A)}$, as \n",
    "\n",
    "$\\mathbb{P}(B\\cap A)=\\mathbb{P}(A)\\cdot\\mathbb{P}(B|A)$\n",
    "\n",
    "Similarly: We can define the product rule for r.v's following the definition for the conditional probability on r.v's  \n",
    "\n",
    "$P_{X|Y}(x|y)=\\frac{P_{X,Y}(x,y)}{P_Y(y)}$, as\n",
    "\n",
    "$P_{X,Y}(x,y)=P_Y(y)\\cdot P_{X|Y}(x|y)$\n",
    "\n",
    "Therefore, if we have the probability tables for $P_Y(y)$ and $P_{X|Y}(x|y)$ then we can get the probability table for $P_{X,Y}(x,y)$ :). We can summarise this as \n",
    "\n",
    "$P_{X,Y}(x,y)=\n",
    "    \\begin{cases}\n",
    "    P_Y(y)\\cdot P_{X|Y}(x|y) & \\text{if } P_Y(y)>0 \\\\\n",
    "    0 & \\text{if } P_Y(y)=0\n",
    "    \\end{cases}$.\n"
   ]
  },
  {
   "cell_type": "markdown",
   "id": "df8108ce",
   "metadata": {},
   "source": [
    "<u> __What about more than 2 random variables?__ </u>\n",
    "\n",
    "$\\begin{align} \n",
    "P_{X_1,X_2,X_3,...,X_N}(x_1,x_2,x_3,...,x_N)=P_{X_1}(x_1)\\cdot P_{X_2|X_1}(x_2|x_1)&\\cdot P_{X_3|X_1,X_2}(x_3|x_1,x_2)...\\\\\n",
    "&\\cdot P_{X_N|X_1,X_2,X_3,...,X_{N-1}}(x_N|x_1,x_2,x_3,...,x_{N-1}) \n",
    "\\end{align}$\n",
    "\n",
    "We can observe a general pattern here, from left to right we condition on the probabilities that we have observed!\n"
   ]
  },
  {
   "cell_type": "markdown",
   "id": "bf372338",
   "metadata": {},
   "source": [
    "<u> __Bayes rule for random variables__ </u>\n",
    "\n",
    "In analogy to Bayes theorem for probabilities over events, we can write a similar rule for our PMFs s.t.\n",
    "\n",
    "$P{X|Y}=\\frac{P_X(x)\\cdot P_{Y|X}(y|x)}{P_Y(y)}=\\frac{P_X(x)\\cdot P_{Y|X}(y|x)}{\\sum\\limits_{x'}P_X(x')\\cdot P_{Y|X}(y|x')}$"
   ]
  },
  {
   "cell_type": "code",
   "execution_count": null,
   "id": "8b7719f9",
   "metadata": {},
   "outputs": [],
   "source": []
  }
 ],
 "metadata": {
  "kernelspec": {
   "display_name": "Python 3",
   "language": "python",
   "name": "python3"
  },
  "language_info": {
   "codemirror_mode": {
    "name": "ipython",
    "version": 3
   },
   "file_extension": ".py",
   "mimetype": "text/x-python",
   "name": "python",
   "nbconvert_exporter": "python",
   "pygments_lexer": "ipython3",
   "version": "3.8.8"
  }
 },
 "nbformat": 4,
 "nbformat_minor": 5
}

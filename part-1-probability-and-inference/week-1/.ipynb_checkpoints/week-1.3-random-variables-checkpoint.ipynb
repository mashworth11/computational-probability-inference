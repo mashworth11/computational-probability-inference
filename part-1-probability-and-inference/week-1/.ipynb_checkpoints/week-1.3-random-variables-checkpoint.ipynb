{
 "cells": [
  {
   "cell_type": "markdown",
   "id": "76b4708c",
   "metadata": {},
   "source": [
    "### Week 1: A first look at random variables\n",
    "\n",
    "Informally: A __random variable__ (r.v.) is a variable (or function) whose _values_ depend on _events_ (or outcomes) from a random experiment."
   ]
  },
  {
   "cell_type": "code",
   "execution_count": 8,
   "id": "f4b4472a",
   "metadata": {},
   "outputs": [
    {
     "name": "stdout",
     "output_type": "stream",
     "text": [
      "W:sunny, I:1\n"
     ]
    }
   ],
   "source": [
    "import comp_prob_inference\n",
    "\n",
    "prob_space = {'sunny': 1/2, 'rainy': 1/6, 'snowy': 1/3}\n",
    "random_outcome = comp_prob_inference.sample_from_finite_probability_space(prob_space)\n",
    "W = random_outcome\n",
    "if random_outcome == 'sunny':\n",
    "    I = 1\n",
    "else:\n",
    "    I = 0\n",
    "print(f'W:{W}, I:{I}')"
   ]
  },
  {
   "cell_type": "markdown",
   "id": "df6156a5",
   "metadata": {},
   "source": [
    "So from our probability space $(\\Omega,\\mathbb{P})$ we sample a random outcome $\\omega$, which is then mapped by a random variable to a value (e.g. another object, a numerical value). More formally,\n",
    "\n",
    "$W(\\omega)=\\omega \\quad \\forall \\omega\\in\\{\\text{sunny, rainy, snowy}\\}$,\n",
    "\n",
    "$I(\\omega)=\n",
    "    \\begin{cases}\n",
    "    1 & \\forall \\omega\\in\\{\\text{sunny}\\} \\\\\n",
    "    0 & \\forall \\omega\\in\\{\\text{rainy, snowy}\\}\n",
    "    \\end{cases}$.\n",
    "    \n",
    "Therefore, written as mappings from our sample space to a set called the _alphabet_ $\\chi$, which denotes the set of values that an r.v. $X$ can take,\n",
    "\n",
    "$W:\\Omega\\rightarrow\\Omega$,\n",
    "\n",
    "$I:\\Omega\\rightarrow\\{0,1\\}$ (note, here $\\chi=\\{0,1\\}$)."
   ]
  },
  {
   "cell_type": "code",
   "execution_count": 10,
   "id": "c8a4c89e",
   "metadata": {},
   "outputs": [
    {
     "name": "stdout",
     "output_type": "stream",
     "text": [
      "Random vars. W:sunny, I:1\n"
     ]
    }
   ],
   "source": [
    "# Approach 1: start with prop. space and define mappins separately\n",
    "prob_space = {'sunny': 1/2, 'rainy': 1/6, 'snowy': 1/3}\n",
    "W_mapping = {'sunny': 'sunny', 'rainy': 'rainy', 'snowy': 'snowy'}\n",
    "I_mapping = {'sunny': 1, 'rainy': 0, 'snowy': 0}\n",
    "random_outcome = comp_prob_inference.sample_from_finite_probability_space(prob_space)\n",
    "W = W_mapping[random_outcome]\n",
    "I = I_mapping[random_outcome]\n",
    "\n",
    "print(f'Random vars. W:{W}, I:{I}')"
   ]
  },
  {
   "cell_type": "code",
   "execution_count": 14,
   "id": "5eb11065",
   "metadata": {},
   "outputs": [
    {
     "name": "stdout",
     "output_type": "stream",
     "text": [
      "Random vars. W:sunny, I:1\n"
     ]
    }
   ],
   "source": [
    "# Approach 2: create probability tables for the random vars. directly\n",
    "W_table = {'sunny': 1/2, 'rainy': 1/6, 'snowy': 1/3}\n",
    "I_table = {0: 1/2, 1: 1/2}\n",
    "W = comp_prob_inference.sample_from_finite_probability_space(W_table)\n",
    "I = comp_prob_inference.sample_from_finite_probability_space(I_table)\n",
    "\n",
    "print(f'Random vars. W:{W}, I:{I}')"
   ]
  },
  {
   "cell_type": "markdown",
   "id": "9ef733e9",
   "metadata": {},
   "source": [
    "<u> __Probability mass functions__ </u>\n",
    "\n",
    "Let's consider an experiment involving 3 coin flips such that: \n",
    "$\\Omega=\\{HHH, HHT, HTT, HTH, TTT, TTH, THH, THT\\}$,\n",
    "\n",
    "We define $X=$ the number of $'H's$, and so $\\chi=\\{0,1,2,3\\}$ such that $X(HTH)=2$,\n",
    "\n",
    "we then write the following... $\\{X=x\\}=\\{\\omega:X(\\omega)=x\\}$, where $x\\in\\chi$.\n",
    "\n",
    "A probability mass function (PMF) $P_X(x=2)=\\mathbb{P}(X=x)=\\mathbb{P}(\\{\\omega:X(\\omega)=x\\})=\\frac{3}{8}$. The PMF therefore maps a random variable value to an associated probability. \n",
    "\n",
    "Lastly, PMF = probability table = probability distribution."
   ]
  },
  {
   "cell_type": "markdown",
   "id": "d55dd607",
   "metadata": {},
   "source": [
    "<u> __In sum - events vs random variables__ </u>\n",
    "\n",
    "* _Event_ -> is an outcome or a union of outcomes, when the outcomes are the occurrences over which you can assign probabilities. \n",
    "* _Random variable_ -> is a variable whose domain is the set of basic events, and whose range (outcome) could be numerical or categorical."
   ]
  },
  {
   "cell_type": "code",
   "execution_count": null,
   "id": "8be08ee3",
   "metadata": {},
   "outputs": [],
   "source": []
  }
 ],
 "metadata": {
  "kernelspec": {
   "display_name": "Python 3",
   "language": "python",
   "name": "python3"
  },
  "language_info": {
   "codemirror_mode": {
    "name": "ipython",
    "version": 3
   },
   "file_extension": ".py",
   "mimetype": "text/x-python",
   "name": "python",
   "nbconvert_exporter": "python",
   "pygments_lexer": "ipython3",
   "version": "3.8.8"
  }
 },
 "nbformat": 4,
 "nbformat_minor": 5
}

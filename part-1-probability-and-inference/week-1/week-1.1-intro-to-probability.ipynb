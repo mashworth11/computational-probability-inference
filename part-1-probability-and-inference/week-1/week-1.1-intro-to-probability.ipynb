{
 "cells": [
  {
   "cell_type": "markdown",
   "id": "b92905f7",
   "metadata": {},
   "source": [
    "### Week 1: Intro to probability\n",
    "* __Probability__ is about modelling uncertainty of the world.\n",
    "* __Inference__ is about learning properties about the world from data we observe"
   ]
  },
  {
   "cell_type": "markdown",
   "id": "37c468e7",
   "metadata": {},
   "source": [
    "In this course, when modelling uncertainty, we will assume there is an underlying _experiment_.\n",
    "\n",
    "<br>\n",
    "\n",
    "<u> __2 ingredients to modelling uncertainty__ </u>\n",
    "1) Set of all possible outcomes is called the __sample space__ ($\\Omega$) e.g. Coin flip: $\\Omega\\in\\{heads, tails\\}$\n",
    "\n",
    "2) __Probability of each outcome__ $\\mathbb{P}(\\omega)$, where $\\omega\\in\\Omega$ e.g. Coin flip: $\\mathbb{P}(\\text{heads})=0.5$ and $\\mathbb{P}(\\text{tails})=0.5$. Notation $\\mathbb{P}$ denotes a probability measure!\n",
    "\n",
    "In Python we can model these two ingredients as a __probability space__ using a dictionary:"
   ]
  },
  {
   "cell_type": "code",
   "execution_count": 1,
   "id": "1293235b",
   "metadata": {},
   "outputs": [
    {
     "data": {
      "text/plain": [
       "{'heads': 0.5, 'tails': 0.5}"
      ]
     },
     "execution_count": 1,
     "metadata": {},
     "output_type": "execute_result"
    }
   ],
   "source": [
    "model = {'heads':0.5, 'tails':0.5} # probability space of sorts\n",
    "sample_space = set(model.keys())\n",
    "model"
   ]
  },
  {
   "cell_type": "markdown",
   "id": "fb6e2157",
   "metadata": {},
   "source": [
    "__Important__\n",
    "\n",
    "* $\\Omega$ should be _collectively exhaustive_ (it should contain every possible outcome from an experiment)\n",
    "* After an experiment run, _exactly_ one outcome should happen. "
   ]
  },
  {
   "cell_type": "code",
   "execution_count": null,
   "id": "b80735fe",
   "metadata": {},
   "outputs": [],
   "source": []
  }
 ],
 "metadata": {
  "kernelspec": {
   "display_name": "Python 3",
   "language": "python",
   "name": "python3"
  },
  "language_info": {
   "codemirror_mode": {
    "name": "ipython",
    "version": 3
   },
   "file_extension": ".py",
   "mimetype": "text/x-python",
   "name": "python",
   "nbconvert_exporter": "python",
   "pygments_lexer": "ipython3",
   "version": "3.8.8"
  }
 },
 "nbformat": 4,
 "nbformat_minor": 5
}

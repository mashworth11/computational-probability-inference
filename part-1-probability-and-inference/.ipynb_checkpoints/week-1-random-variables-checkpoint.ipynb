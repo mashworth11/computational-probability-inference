{
 "cells": [
  {
   "cell_type": "code",
   "execution_count": null,
   "id": "53bf6f94",
   "metadata": {},
   "outputs": [],
   "source": [
    "### Week 1: A first look at random variables\n",
    "\n"
   ]
  }
 ],
 "metadata": {
  "kernelspec": {
   "display_name": "Python 3",
   "language": "python",
   "name": "python3"
  },
  "language_info": {
   "codemirror_mode": {
    "name": "ipython",
    "version": 3
   },
   "file_extension": ".py",
   "mimetype": "text/x-python",
   "name": "python",
   "nbconvert_exporter": "python",
   "pygments_lexer": "ipython3",
   "version": "3.8.8"
  }
 },
 "nbformat": 4,
 "nbformat_minor": 5
}

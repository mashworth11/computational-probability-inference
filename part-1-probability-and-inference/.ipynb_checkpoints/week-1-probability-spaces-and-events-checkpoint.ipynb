{
 "cells": [
  {
   "cell_type": "markdown",
   "id": "2098cc7e",
   "metadata": {},
   "source": [
    "### Week 1: Probability spaces and events\n",
    "\n",
    "Consider an experiment that involves 2 coin flips s.t. $\\mathbb{P}(H,H)=\\mathbb{P}(H,T)=...=\\frac{1}{4}$. Therefore $\\Omega=\\{HH, HT, TH, TT\\}$.\n",
    "\n",
    "An __event__ $E$ is then given as $E\\subset\\Omega$, for example:\n",
    "\n",
    "* Event $A$: 2nd flip is a $'T' \\rightarrow \\{TT, HT\\}$\n",
    "* Event $B$: at least one flip is a $'H' \\rightarrow \\{HH, HT, TH\\}$\n",
    "* Event $C$: $'HH' \\rightarrow \\{HH\\}$\n",
    "\n",
    "Therefore, event $A$ is said to _occur_ if for a given experiment we observe $\\omega\\in A$ \n",
    "\n",
    "The probability of an event occuring is then $\\mathbb{P}(E)=\\sum_{\\omega\\in E}\\mathbb{P}(\\omega)$. Therefore for event $A$ we have $\\mathbb{P}(A)=\\frac{1}{4}+\\frac{1}{4}=\\frac{1}{2}$."
   ]
  },
  {
   "cell_type": "markdown",
   "id": "906be2aa",
   "metadata": {},
   "source": [
    "<u> __Events as sets__ </u>\n",
    "\n",
    "Let's work with our events $A, B, \\text{ and } C$ defined above:\n",
    "\n",
    "_Notation_\n",
    "\n",
    "* $A\\subset\\Omega$\n",
    "* $A\\cap B=\\{HT\\}$\n",
    "* $A\\cup C=\\{HH, HT, TT\\}$\n",
    "* $B^c=\\{TT\\}$\n",
    "\n",
    "_Properties_\n",
    "* $\\mathbb{P}(\\Omega)=1$, $\\mathbb{P}(\\emptyset)=0$\n",
    "* If $A\\subset B \\rightarrow \\mathbb{P}(A)\\leq\\mathbb{P}(B)$\n",
    "* If $A\\cap B=\\emptyset \\rightarrow \\mathbb{P}(A\\cup B)=\\mathbb{P}(A)+\\mathbb{P}(B)$\n",
    "\n",
    "_Lastly_\n",
    "\n",
    "$\\mathbb{P}(\\omega)\\equiv\\mathbb{P}(\\{\\omega\\})$, therefore we can say probabilities are only defined for events."
   ]
  },
  {
   "cell_type": "code",
   "execution_count": null,
   "id": "cb631773",
   "metadata": {},
   "outputs": [],
   "source": []
  }
 ],
 "metadata": {
  "kernelspec": {
   "display_name": "Python 3",
   "language": "python",
   "name": "python3"
  },
  "language_info": {
   "codemirror_mode": {
    "name": "ipython",
    "version": 3
   },
   "file_extension": ".py",
   "mimetype": "text/x-python",
   "name": "python",
   "nbconvert_exporter": "python",
   "pygments_lexer": "ipython3",
   "version": "3.8.8"
  }
 },
 "nbformat": 4,
 "nbformat_minor": 5
}

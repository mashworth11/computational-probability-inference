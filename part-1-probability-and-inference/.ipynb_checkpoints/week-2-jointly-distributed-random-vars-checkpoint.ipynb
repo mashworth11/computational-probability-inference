{
 "cells": [
  {
   "cell_type": "markdown",
   "id": "c552ca17",
   "metadata": {},
   "source": [
    "### Week 2: Jointly distributed random variables\n",
    "\n",
    "Informally: Considers the __joint__ occurence of two random variables together."
   ]
  },
  {
   "cell_type": "markdown",
   "id": "735bb76f",
   "metadata": {},
   "source": [
    "Consider the following joint probability table:\n",
    "\n",
    "|   | T: Hot | T: Cold| \n",
    "| :- | --- | --- | \n",
    "| __W: Sunny__ | 3/10 | 1/5 |\n",
    "| __W: Rainy__ | 1/30 | 2/15 |\n",
    "| __W: Snowy__ | 0 | 1/3\n",
    "\n",
    "Our probability table then represents a join probability mass function $P_{W,T}$ or joint probability distribution."
   ]
  },
  {
   "cell_type": "markdown",
   "id": "7cca7999",
   "metadata": {},
   "source": [
    "Question: Given we observe that it's rainy, what is the probability that T = hot?\n",
    "* Note, the conditional probabilities need to sum to 1.\n",
    "* Therefore, we need to divide the probabilities above by $\\frac{1}{6}$. As a result\n",
    "\n",
    "|   | T: Hot | T: Cold| \n",
    "| :- | --- | --- | \n",
    "| __W: Rainy__ | 1/30 | 2/15 |\n"
   ]
  },
  {
   "cell_type": "code",
   "execution_count": null,
   "id": "49359253",
   "metadata": {},
   "outputs": [],
   "source": []
  }
 ],
 "metadata": {
  "kernelspec": {
   "display_name": "Python 3",
   "language": "python",
   "name": "python3"
  },
  "language_info": {
   "codemirror_mode": {
    "name": "ipython",
    "version": 3
   },
   "file_extension": ".py",
   "mimetype": "text/x-python",
   "name": "python",
   "nbconvert_exporter": "python",
   "pygments_lexer": "ipython3",
   "version": "3.8.8"
  }
 },
 "nbformat": 4,
 "nbformat_minor": 5
}

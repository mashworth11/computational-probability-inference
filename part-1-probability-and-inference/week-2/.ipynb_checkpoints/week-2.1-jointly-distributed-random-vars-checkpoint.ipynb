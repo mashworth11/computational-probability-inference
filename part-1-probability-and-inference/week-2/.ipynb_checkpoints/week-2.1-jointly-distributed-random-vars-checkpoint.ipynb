{
 "cells": [
  {
   "cell_type": "markdown",
   "id": "c552ca17",
   "metadata": {},
   "source": [
    "### Week 2: Jointly distributed random variables\n",
    "\n",
    "Informally: Considers the __joint__ occurence of two random variables together."
   ]
  },
  {
   "cell_type": "markdown",
   "id": "735bb76f",
   "metadata": {},
   "source": [
    "Consider the following joint probability table:\n",
    "\n",
    "|   | T: Hot | T: Cold| \n",
    "| :- | --- | --- | \n",
    "| __W: Sunny__ | 3/10 | 1/5 |\n",
    "| __W: Rainy__ | 1/30 | 2/15 |\n",
    "| __W: Snowy__ | 0 | 1/3\n",
    "\n",
    "Our probability table then represents a join probability mass function $P_{W,T}$ or joint probability distribution. \n",
    "\n",
    "Note:\n",
    "\n",
    "$\\sum\\limits_{x,y}P_{X,Y}(x,y)=\\sum\\limits_{x,y}\\mathbb{P}(X=x,Y=y)=1$"
   ]
  },
  {
   "cell_type": "markdown",
   "id": "ea3da243",
   "metadata": {},
   "source": [
    "<u> __Marginalisation__ </u>\n",
    "\n",
    "Is the process of summing over joint probabilities for a given r.v. (or r.v.s). \n",
    "\n",
    "It is called marginalisation because we collect the sums of probabilities in the _margins_ of our probability table.\n",
    "\n",
    "-> For example, from $P_{W,T}$ we can recover $P_{W}(w)=\\sum\\limits_{t}P_{W,T}(w,t)$ as\n",
    "\n",
    "|   | $$P_W$$ |\n",
    "| :- | --- |\n",
    "| __W: Sunny__ | 1/2 |\n",
    "| __W: Rainy__ | 1/6 | \n",
    "| __W: Snowy__ | 1/3 | \n",
    "\n",
    "_(In the above, we are said to have marginalised out T)_\n",
    "\n",
    "Therefore, if we're interested in $P_{W}(rainy)=\\sum\\limits_{t}P_{W,T}(rainy,t)=\\frac{1}{6}$.\n",
    "\n",
    "-> Similarly, we can recover $P_{T}(t)=\\sum\\limits_{w}P_{W,T}(w,t)$ as\n",
    "\n",
    "|   | T: Hot | T: Cold| \n",
    "| :- | --- | --- | \n",
    "| $$P_T$$ | 1/3 | 2/3 |\n",
    "\n",
    "More generally,\n",
    "\n",
    "$P_Y(y)=\\sum\\limits_{i}P_{X,Y}(x_i,y)$\n",
    "\n",
    "or\n",
    "\n",
    "$\\mathbb{P}(Y=y)=\\sum\\limits_{i}\\mathbb{P}(X=x_i,Y=y)$\n"
   ]
  },
  {
   "cell_type": "markdown",
   "id": "96aa963d",
   "metadata": {},
   "source": [
    "<u> __Conditioning__ </u>\n",
    "\n",
    "Is the observation of an event (and its associated probability) _given_ (or _conditioned_ on) that another event has taken place. In other words, we can think of conditioning as taking a _slice of a joint probability table_, which we then _renormalise_ so that the entries of our now mini-table sum to 1. \n",
    "\n",
    "For example, observing that it rains we take the slice\n",
    "\n",
    "|   | T: Hot | T: Cold| \n",
    "| :- | --- | --- | \n",
    "| __W: Rainy__ | 1/30 | 2/15 |\n",
    "\n",
    "which we then need to renormalise so that the entries of our mini-table sum to 1...\n",
    "\n",
    "-> $P_{T|W}(hot|rainy)=\\frac{1}{5}=\\frac{\\frac{1}{30}}{\\frac{1}{6}}=\\frac{P_{W,T}(rainy,hot)}{P_T(rainy)}$\n",
    "\n",
    "-> $P_{T|W}(cold|rainy)=\\frac{4}{5}=\\frac{\\frac{2}{15}}{\\frac{1}{6}}=\\frac{P_{W,T}(rainy,cold)}{P_T(rainy)}$\n",
    "\n",
    "where conditioning is denoted by the |. \n",
    "\n",
    "More generally,\n",
    "\n",
    "$P_{Y|X}(y|x)=\\frac{P_{X,Y}(x,y)}{P_X(x)}$\n",
    "\n",
    "or\n",
    "\n",
    "$\\mathbb{P}(Y=y|X=x)=\\frac{\\mathbb{P}(X=x,Y=y)}{\\mathbb{P}(X=x)}$\n",
    "\n",
    "Note, as mentioned above, the conditional probabilities needs to sum to 1:\n",
    "\n",
    "$\\sum\\limits_{y}P_{Y|X}(y|x) = \\sum\\limits_{y}\\mathbb{P}(Y=y|X=x)=1$\n",
    "\n",
    "A conditional probability can be thus be thought of as a local probability of sorts (local to the probability of the conditioning variables). "
   ]
  },
  {
   "cell_type": "code",
   "execution_count": null,
   "id": "877dd4f5",
   "metadata": {},
   "outputs": [],
   "source": []
  }
 ],
 "metadata": {
  "kernelspec": {
   "display_name": "Python 3",
   "language": "python",
   "name": "python3"
  },
  "language_info": {
   "codemirror_mode": {
    "name": "ipython",
    "version": 3
   },
   "file_extension": ".py",
   "mimetype": "text/x-python",
   "name": "python",
   "nbconvert_exporter": "python",
   "pygments_lexer": "ipython3",
   "version": "3.8.8"
  }
 },
 "nbformat": 4,
 "nbformat_minor": 5
}

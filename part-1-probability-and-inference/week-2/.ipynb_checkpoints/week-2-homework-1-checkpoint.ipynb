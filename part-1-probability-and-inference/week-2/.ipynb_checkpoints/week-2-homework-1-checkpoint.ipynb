{
 "cells": [
  {
   "cell_type": "markdown",
   "id": "22980715",
   "metadata": {},
   "source": [
    "Homework link:\n",
    "https://learning.edx.org/course/course-v1:MITx+6.008.1x+3T2016/block-v1:MITx+6.008.1x+3T2016+type@sequential+block@hw1/block-v1:MITx+6.008.1x+3T2016+type@vertical+block@Homework_Problem_Alice_Hunts_Dragons\n",
    "            "
   ]
  },
  {
   "cell_type": "markdown",
   "id": "193354bc",
   "metadata": {},
   "source": [
    "#### Alice Hunt's dragons"
   ]
  },
  {
   "cell_type": "code",
   "execution_count": 58,
   "id": "1e5bc2e1",
   "metadata": {},
   "outputs": [],
   "source": [
    "# 1)\n",
    "def f(x,y):\n",
    "    if (x in [1,2,4]) and (y in [1,3]):\n",
    "        return x**2 + y**2\n",
    "    else:\n",
    "        return 0"
   ]
  },
  {
   "cell_type": "code",
   "execution_count": 19,
   "id": "a6118b51",
   "metadata": {},
   "outputs": [],
   "source": [
    "f_eval = [f(x,y) for x in range(1,5) for y in range(1,4)]"
   ]
  },
  {
   "cell_type": "code",
   "execution_count": 34,
   "id": "d6271da4",
   "metadata": {},
   "outputs": [],
   "source": [
    "c = sum(f_eval)"
   ]
  },
  {
   "cell_type": "code",
   "execution_count": 35,
   "id": "7a70cd91",
   "metadata": {},
   "outputs": [
    {
     "data": {
      "text/plain": [
       "72"
      ]
     },
     "execution_count": 35,
     "metadata": {},
     "output_type": "execute_result"
    }
   ],
   "source": [
    "c"
   ]
  },
  {
   "cell_type": "markdown",
   "id": "f9023832",
   "metadata": {},
   "source": [
    "2)\n",
    "{Y=1,X=2}, {Y=1,X=3}, {Y=1,X=4}, {Y=2,X=3}, {Y=2,X=4}, {Y=3,X=4} "
   ]
  },
  {
   "cell_type": "code",
   "execution_count": 41,
   "id": "3ce9f737",
   "metadata": {},
   "outputs": [],
   "source": [
    "def construct_prob_space(x_set,y_set, c):\n",
    "    \"\"\"\n",
    "    Construct joint probability space from set of individual outcomes x_set and y_set\n",
    "    \"\"\"\n",
    "    prob_space = {}\n",
    "    for x in x_set:\n",
    "        for y in y_set:\n",
    "            prob_space[f'X={x},Y={y}']=f(x,y)/c\n",
    "    return prob_space\n",
    "    "
   ]
  },
  {
   "cell_type": "code",
   "execution_count": 49,
   "id": "6971cd09",
   "metadata": {},
   "outputs": [
    {
     "data": {
      "text/plain": [
       "{'X=1,Y=1': 0.027777777777777776,\n",
       " 'X=1,Y=2': 0.0,\n",
       " 'X=1,Y=3': 0.1388888888888889,\n",
       " 'X=2,Y=1': 0.06944444444444445,\n",
       " 'X=2,Y=2': 0.0,\n",
       " 'X=2,Y=3': 0.18055555555555555,\n",
       " 'X=3,Y=1': 0.0,\n",
       " 'X=3,Y=2': 0.0,\n",
       " 'X=3,Y=3': 0.0,\n",
       " 'X=4,Y=1': 0.2361111111111111,\n",
       " 'X=4,Y=2': 0.0,\n",
       " 'X=4,Y=3': 0.3472222222222222}"
      ]
     },
     "execution_count": 49,
     "metadata": {},
     "output_type": "execute_result"
    }
   ],
   "source": [
    "prob_space = construct_prob_space(range(1,5), range(1,4), c)\n",
    "prob_space"
   ]
  },
  {
   "cell_type": "code",
   "execution_count": 57,
   "id": "8b08e240",
   "metadata": {},
   "outputs": [
    {
     "data": {
      "text/plain": [
       "0.6527777777777778"
      ]
     },
     "execution_count": 57,
     "metadata": {},
     "output_type": "execute_result"
    }
   ],
   "source": [
    "# 3)\n",
    "Y_less_X = sum([prob_space[f'X={x},Y={y}'] for x in range(1,5) for y in range(1,4) if y < x])\n",
    "Y_less_X"
   ]
  },
  {
   "cell_type": "code",
   "execution_count": 46,
   "id": "a3e7413f",
   "metadata": {},
   "outputs": [
    {
     "data": {
      "text/plain": [
       "0.3194444444444444"
      ]
     },
     "execution_count": 46,
     "metadata": {},
     "output_type": "execute_result"
    }
   ],
   "source": [
    "# 4)\n",
    "X_less_Y = sum([prob_space[f'X={x},Y={y}'] for x in range(1,5) for y in range(1,4) if x < y])\n",
    "X_less_Y"
   ]
  },
  {
   "cell_type": "code",
   "execution_count": 47,
   "id": "4b4c0f9a",
   "metadata": {},
   "outputs": [
    {
     "data": {
      "text/plain": [
       "0.027777777777777776"
      ]
     },
     "execution_count": 47,
     "metadata": {},
     "output_type": "execute_result"
    }
   ],
   "source": [
    "# 5)\n",
    "X_eqls_Y = sum([prob_space[f'X={x},Y={y}'] for x in range(1,5) for y in range(1,4) if x == y])\n",
    "X_eqls_Y"
   ]
  },
  {
   "cell_type": "code",
   "execution_count": 50,
   "id": "29e26581",
   "metadata": {},
   "outputs": [
    {
     "data": {
      "text/plain": [
       "0.6666666666666666"
      ]
     },
     "execution_count": 50,
     "metadata": {},
     "output_type": "execute_result"
    }
   ],
   "source": [
    "# 6)\n",
    "Y_eqls_3 = sum([prob_space[f'X={x},Y={y}'] for x in range(1,5) for y in range(1,4) if y == 3])\n",
    "Y_eqls_3"
   ]
  },
  {
   "cell_type": "code",
   "execution_count": 56,
   "id": "140ccf23",
   "metadata": {},
   "outputs": [
    {
     "data": {
      "text/plain": [
       "0.3333333333333333"
      ]
     },
     "execution_count": 56,
     "metadata": {},
     "output_type": "execute_result"
    }
   ],
   "source": [
    "# 7)\n",
    "sum([prob_space[f'X={x},Y={y}'] for x in range(1,5) for y in range(1,4) if y == 1])"
   ]
  },
  {
   "cell_type": "markdown",
   "id": "7b0293af",
   "metadata": {},
   "source": [
    "#### Alice's coins"
   ]
  },
  {
   "cell_type": "markdown",
   "id": "680aabe2",
   "metadata": {},
   "source": [
    "1) and 2)\n",
    "\n",
    "|    | Heads | Tails |\n",
    "| --- | --- | --- |\n",
    "| NC | 1/5 | 1/5 |\n",
    "| HC | 2/5 | 0 |\n",
    "| TC | 0 | 1/5 |\n"
   ]
  },
  {
   "cell_type": "markdown",
   "id": "1c93dc2e",
   "metadata": {},
   "source": [
    "3) \n",
    "\n",
    "We're interested in $P_{V,C}(heads,NC) + P_{V,C}(heads,HC)$\n",
    "\n",
    "|    | 1st coin = NC | 1st coin = HC |\n",
    "| --- | --- | --- |\n",
    "| 2nd coin = Heads | 5/24 | 2/6 |\n",
    "| 2nd coin = Tails | 3/24 | 2/6 |"
   ]
  },
  {
   "cell_type": "code",
   "execution_count": null,
   "id": "f649bca0",
   "metadata": {},
   "outputs": [],
   "source": []
  }
 ],
 "metadata": {
  "kernelspec": {
   "display_name": "Python 3",
   "language": "python",
   "name": "python3"
  },
  "language_info": {
   "codemirror_mode": {
    "name": "ipython",
    "version": 3
   },
   "file_extension": ".py",
   "mimetype": "text/x-python",
   "name": "python",
   "nbconvert_exporter": "python",
   "pygments_lexer": "ipython3",
   "version": "3.8.8"
  }
 },
 "nbformat": 4,
 "nbformat_minor": 5
}

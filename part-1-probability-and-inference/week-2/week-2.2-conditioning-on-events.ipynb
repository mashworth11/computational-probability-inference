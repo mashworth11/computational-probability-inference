{
 "cells": [
  {
   "cell_type": "markdown",
   "id": "30b810fe",
   "metadata": {},
   "source": [
    "### Week 2: Conditioning on events\n",
    "\n",
    "Consider the probability space $(\\Omega, \\mathbb{P})$ containing events $A$ and $B$.\n",
    "\n",
    "The conditional probability is given as: $\\mathbb{P}(B|A)=\\frac{\\mathbb{P}(B\\cap A)}{\\mathbb{P}(A)}$\n",
    "\n",
    "Written another way defines the so-called product rule: $\\mathbb{P}(B\\cap A)=\\mathbb{P}(A)\\cdot\\mathbb{P}(B|A)$"
   ]
  },
  {
   "cell_type": "markdown",
   "id": "c5db903f",
   "metadata": {},
   "source": [
    "#### Bayes rule: the big-dawg\n",
    "Bayes rule on events is given as follows: $\\mathbb{P}(A|B)=\\frac{\\mathbb{P}(A)\\cdot\\mathbb{P}(B|A)}{\\mathbb{P}(B)}$"
   ]
  },
  {
   "cell_type": "markdown",
   "id": "8c067890",
   "metadata": {},
   "source": [
    "<u> __Law of total probability__ </u>\n",
    "\n",
    "In the eventuality that a sample space is composed of sets $B_1,...,B_n$ s.t.:\n",
    "\n",
    "* $\\forall k\\neq l, B_k\\cap B_l=\\emptyset$\n",
    "\n",
    "* $\\cup^n_{i=1} B_i=\\Omega$\n",
    "\n",
    "Then $\\mathbb{P}(A)=\\sum\\limits_{i=1}^n=\\mathbb{P}(A\\cap B_i)$"
   ]
  },
  {
   "cell_type": "code",
   "execution_count": null,
   "id": "7c084acb",
   "metadata": {},
   "outputs": [],
   "source": []
  }
 ],
 "metadata": {
  "kernelspec": {
   "display_name": "Python 3",
   "language": "python",
   "name": "python3"
  },
  "language_info": {
   "codemirror_mode": {
    "name": "ipython",
    "version": 3
   },
   "file_extension": ".py",
   "mimetype": "text/x-python",
   "name": "python",
   "nbconvert_exporter": "python",
   "pygments_lexer": "ipython3",
   "version": "3.8.8"
  }
 },
 "nbformat": 4,
 "nbformat_minor": 5
}
